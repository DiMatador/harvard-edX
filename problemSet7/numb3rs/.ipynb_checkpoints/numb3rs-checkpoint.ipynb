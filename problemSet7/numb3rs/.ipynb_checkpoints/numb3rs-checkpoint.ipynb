{
 "cells": [
  {
   "cell_type": "markdown",
   "id": "80f5ccac",
   "metadata": {},
   "source": [
    "# Regular Expressions"
   ]
  },
  {
   "cell_type": "markdown",
   "id": "27b243dd",
   "metadata": {},
   "source": [
    "Lecture # 1"
   ]
  },
  {
   "cell_type": "code",
   "execution_count": 1,
   "id": "99a09207",
   "metadata": {},
   "outputs": [],
   "source": [
    "text = \"THe agent's phone number is 444-555-9999. call soon!\""
   ]
  },
  {
   "cell_type": "raw",
   "id": "35625435",
   "metadata": {},
   "source": [
    "we could search of a text: with \"in\" "
   ]
  },
  {
   "cell_type": "code",
   "execution_count": 2,
   "id": "0db8a878",
   "metadata": {},
   "outputs": [
    {
     "data": {
      "text/plain": [
       "True"
      ]
     },
     "execution_count": 2,
     "metadata": {},
     "output_type": "execute_result"
    }
   ],
   "source": [
    "'phone' in text"
   ]
  },
  {
   "cell_type": "raw",
   "id": "071271e9",
   "metadata": {},
   "source": [
    "we can also do this with regular expressions\n",
    "to do this we need to import re"
   ]
  },
  {
   "cell_type": "code",
   "execution_count": 3,
   "id": "9cab453d",
   "metadata": {},
   "outputs": [],
   "source": [
    "import re"
   ]
  },
  {
   "cell_type": "raw",
   "id": "d2497422",
   "metadata": {},
   "source": [
    "lets create a pattern to look for"
   ]
  },
  {
   "cell_type": "code",
   "execution_count": 6,
   "id": "91cfe2c5",
   "metadata": {},
   "outputs": [
    {
     "data": {
      "text/plain": [
       "<re.Match object; span=(10, 15), match='phone'>"
      ]
     },
     "execution_count": 6,
     "metadata": {},
     "output_type": "execute_result"
    }
   ],
   "source": [
    "pattern = 'phone'\n",
    "# we can now use search to find that patter\n",
    "re.search(pattern, text)"
   ]
  },
  {
   "cell_type": "raw",
   "id": "17768cd5",
   "metadata": {},
   "source": [
    "as you can see the search returns the results:\n",
    "span=(10,15), match='phone'\n",
    "confirming that it does exist in text"
   ]
  },
  {
   "cell_type": "code",
   "execution_count": 7,
   "id": "06007b01",
   "metadata": {},
   "outputs": [],
   "source": [
    "# search for something that does not exist\n",
    "re.search(\"Not in text\", text)"
   ]
  },
  {
   "cell_type": "raw",
   "id": "14bafab6",
   "metadata": {},
   "source": [
    "Note: the pattern does not exist in the text"
   ]
  },
  {
   "cell_type": "markdown",
   "id": "ecaa14e8",
   "metadata": {},
   "source": [
    "# Searching patterns"
   ]
  },
  {
   "cell_type": "code",
   "execution_count": 17,
   "id": "2f643db5",
   "metadata": {},
   "outputs": [],
   "source": [
    "text =  \"My Number is 444-555-7799\"\n",
    "\n",
    "#here we are looking for one expecific number it would not search any number\n",
    "phone = re.search('444-555-777', text)\n",
    "# it finds the number we are looking for but if we change the number it will not\n",
    "phone"
   ]
  },
  {
   "cell_type": "code",
   "execution_count": 19,
   "id": "0e5a7060",
   "metadata": {},
   "outputs": [
    {
     "data": {
      "text/plain": [
       "<re.Match object; span=(13, 25), match='444-555-7777'>"
      ]
     },
     "execution_count": 19,
     "metadata": {},
     "output_type": "execute_result"
    }
   ],
   "source": [
    "# look for the number usssing the \\d = digit\n",
    "phone = re.search(r'\\d\\d\\d-\\d\\d\\d-\\d\\d\\d\\d', text)\n",
    "# here is gonna find all the numbers even if they change in the future\n",
    "phone"
   ]
  },
  {
   "cell_type": "code",
   "execution_count": null,
   "id": "880b75e8",
   "metadata": {},
   "outputs": [],
   "source": []
  }
 ],
 "metadata": {
  "kernelspec": {
   "display_name": "Python 3 (ipykernel)",
   "language": "python",
   "name": "python3"
  },
  "language_info": {
   "codemirror_mode": {
    "name": "ipython",
    "version": 3
   },
   "file_extension": ".py",
   "mimetype": "text/x-python",
   "name": "python",
   "nbconvert_exporter": "python",
   "pygments_lexer": "ipython3",
   "version": "3.9.12"
  }
 },
 "nbformat": 4,
 "nbformat_minor": 5
}
