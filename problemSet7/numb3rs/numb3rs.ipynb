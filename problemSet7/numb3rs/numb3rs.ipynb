{
 "cells": [
  {
   "cell_type": "markdown",
   "id": "d16fde67",
   "metadata": {},
   "source": [
    "# Regular Expressions"
   ]
  },
  {
   "cell_type": "markdown",
   "id": "45b49350",
   "metadata": {},
   "source": [
    "Lecture # 1"
   ]
  },
  {
   "cell_type": "code",
   "execution_count": 1,
   "id": "d165fbcf",
   "metadata": {},
   "outputs": [],
   "source": [
    "text = \"THe agent's phone number is 444-555-9999. call soon!\""
   ]
  },
  {
   "cell_type": "raw",
   "id": "b0c6d0a5",
   "metadata": {},
   "source": [
    "we could search of a text: with \"in\" "
   ]
  },
  {
   "cell_type": "code",
   "execution_count": 2,
   "id": "868e2eb6",
   "metadata": {},
   "outputs": [
    {
     "data": {
      "text/plain": [
       "True"
      ]
     },
     "execution_count": 2,
     "metadata": {},
     "output_type": "execute_result"
    }
   ],
   "source": [
    "'phone' in text"
   ]
  },
  {
   "cell_type": "raw",
   "id": "de61248a",
   "metadata": {},
   "source": [
    "we can also do this with regular expressions\n",
    "to do this we need to import re"
   ]
  },
  {
   "cell_type": "code",
   "execution_count": 3,
   "id": "b94af5e8",
   "metadata": {},
   "outputs": [],
   "source": [
    "import re"
   ]
  },
  {
   "cell_type": "raw",
   "id": "a835a464",
   "metadata": {},
   "source": [
    "lets create a pattern to look for"
   ]
  },
  {
   "cell_type": "code",
   "execution_count": 6,
   "id": "62eab52d",
   "metadata": {},
   "outputs": [
    {
     "data": {
      "text/plain": [
       "<re.Match object; span=(10, 15), match='phone'>"
      ]
     },
     "execution_count": 6,
     "metadata": {},
     "output_type": "execute_result"
    }
   ],
   "source": [
    "pattern = 'phone'\n",
    "# we can now use search to find that patter\n",
    "re.search(pattern, text)"
   ]
  },
  {
   "cell_type": "raw",
   "id": "15a0ca6d",
   "metadata": {},
   "source": [
    "as you can see the search returns the results:\n",
    "span=(10,15), match='phone'\n",
    "confirming that it does exist in text"
   ]
  },
  {
   "cell_type": "code",
   "execution_count": 7,
   "id": "022d6393",
   "metadata": {},
   "outputs": [],
   "source": [
    "# search for something that does not exist\n",
    "re.search(\"Not in text\", text)"
   ]
  },
  {
   "cell_type": "raw",
   "id": "d99b8b96",
   "metadata": {},
   "source": [
    "Note: the pattern does not exist in the text"
   ]
  },
  {
   "cell_type": "markdown",
   "id": "e7c83106",
   "metadata": {},
   "source": [
    "# Searching patterns"
   ]
  },
  {
   "cell_type": "code",
   "execution_count": 28,
   "id": "a7b0359f",
   "metadata": {},
   "outputs": [
    {
     "data": {
      "text/plain": [
       "<re.Match object; span=(13, 24), match='444-555-777'>"
      ]
     },
     "execution_count": 28,
     "metadata": {},
     "output_type": "execute_result"
    }
   ],
   "source": [
    "text =  \"My Number is 444-555-7777\"\n",
    "\n",
    "#here we are looking for one expecific number it would not search any number\n",
    "phone = re.search('444-555-777', text)\n",
    "# it finds the number we are looking for but if we change the number it will not\n",
    "phone"
   ]
  },
  {
   "cell_type": "code",
   "execution_count": 29,
   "id": "9e56668f",
   "metadata": {},
   "outputs": [
    {
     "data": {
      "text/plain": [
       "<re.Match object; span=(13, 25), match='444-555-7777'>"
      ]
     },
     "execution_count": 29,
     "metadata": {},
     "output_type": "execute_result"
    }
   ],
   "source": [
    "# look for the number usssing the \\d = digit\n",
    "phone = re.search(r'\\d\\d\\d-\\d\\d\\d-\\d\\d\\d\\d', text)\n",
    "# here is gonna find all the numbers even if they change in the future\n",
    "phone"
   ]
  },
  {
   "cell_type": "raw",
   "id": "9b4a84f7",
   "metadata": {},
   "source": [
    "Now use \\w = Alphanumeric \\w-\\w\\w\\w == A-b_1\n",
    "we used the \\d\\d\\d-\\d\\d\\d-\\d\\d\\d\\d to find a phone number,\n",
    "what if we are looking for a larger number?\n",
    "IN THIS CASE WE CAN USE QUANTIFIERS:"
   ]
  },
  {
   "cell_type": "markdown",
   "id": "f7bc1ab4",
   "metadata": {},
   "source": [
    "# Quantifiers\n",
    "1) +   Occurs one or more times    Version \\w-\\w+    == Version A-b1_1\n",
    "\n",
    "2) {3} Occurs exactly 3 times      \\D{3}            ==  abc\n",
    "\n",
    "3) {2,4} Occurs 2 to 4 times       \\d{2,3}         ==   123\n",
    "\n",
    "4) {3,}  Occurs 3 or more times    \\w{3}             == anycharacters\n",
    "\n",
    "5) *   Occures zero or more times  ABC*             ==  AAACC\n",
    "\n",
    "6) ?   One or more times           plurals?           == plural\n",
    "\n"
   ]
  },
  {
   "cell_type": "code",
   "execution_count": 30,
   "id": "ad614e97",
   "metadata": {},
   "outputs": [
    {
     "data": {
      "text/plain": [
       "<re.Match object; span=(13, 25), match='444-555-7777'>"
      ]
     },
     "execution_count": 30,
     "metadata": {},
     "output_type": "execute_result"
    }
   ],
   "source": [
    "# now use quantifiers to find the number again\n",
    "phone1S = re.search(r'\\d{3}-\\d{3}-\\{4}', text)\n",
    "phone"
   ]
  },
  {
   "cell_type": "code",
   "execution_count": null,
   "id": "64be6ebf",
   "metadata": {},
   "outputs": [],
   "source": [
    "# now lets look for the number and extract the area code:\n",
    "# for this we use GROUPS"
   ]
  }
 ],
 "metadata": {
  "kernelspec": {
   "display_name": "Python 3 (ipykernel)",
   "language": "python",
   "name": "python3"
  },
  "language_info": {
   "codemirror_mode": {
    "name": "ipython",
    "version": 3
   },
   "file_extension": ".py",
   "mimetype": "text/x-python",
   "name": "python",
   "nbconvert_exporter": "python",
   "pygments_lexer": "ipython3",
   "version": "3.9.12"
  }
 },
 "nbformat": 4,
 "nbformat_minor": 5
}
